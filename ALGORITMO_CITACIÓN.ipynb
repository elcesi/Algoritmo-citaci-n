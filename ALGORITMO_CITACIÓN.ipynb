{
 "cells": [
  {
   "cell_type": "markdown",
   "metadata": {},
   "source": [
    "# DIRECCIÓN DE LA GESTIÓN DEL CONOCIMIENTO Y LA INNOVACIÓN\n",
    "\n",
    "# Área de Modelos Sanitarios\n",
    "\n",
    "## ALGORITMO CITACIÓN CONTINGENCIAS COMUNES\n",
    "\n",
    "## Objetivo\n",
    "\n",
    "El objetivo del algoritmo de referencia es clasificar en entrada la indicación de cita de un proceso de incapacidad temporal por contingencia comunes. Para ello sólo contempla variables demográficas donde no es necesaria la citación del paciente, permitiendo así optimizar recusos humanos médicos y administrativos, asi como disminución de gastos de desplazamiento.\n",
    "\n",
    "## Preprocesado de datos\n",
    "\n",
    "Las variables que integran el algoritmo son:episodio (EPISODIO), edad (EDAD), código C.N.O. (CNO), recaida (REC), pago (PAGO), contrato (CONTRAT). La variable objetivo es si hay o no valoración (VAL).\n",
    "\n",
    "Todas las variable son cualitativas a excepción de EPI y EDAD. Las características y códigos de variables se recogen en el Anexo I.\n",
    "\n",
    "Debido a la ejecución de varias estratégias de modelado, se ha tenido que prescindir de aquellos valores perdidos o poco representativos de la muestra inicial, de tal modo tenemos que:\n",
    "\n",
    "- Se han eliminado aquellos procesos que tengan nueve o más episodios.\n",
    "- En la variable EDAD se ha tenido en cuenta el rango 18:78.\n",
    "- No se han tenido en cuenta variables explicativas importantes como número de hijos, estado civil y nivel de estudios por la gran cantidad de valores perdidos que hacian perder potencia al algoritmo. \n",
    "\n",
    "Para la selección de variables se han tenido en cuenta análisis previos univariantes, análisis principal de componentes y eliminacion de características recursivas, resultando el análisis discriminante como el mejor.\n",
    "\n",
    "## Estrategias de modelado\n",
    "\n",
    "Incialmente se ha tendio en cuenta varias estrategias como árboles de decisión, maquinas de soporte vectorial, Naive-Bayes, redes neuronales y técnicas de clustering, optando por la regresión logística binaria como mejor opción.\n",
    "\n",
    "La gran cantidad de registros en la CIE9 hacia no converger al modelo por lo que se optó por no contar con la variable \"diagnóstico\" que a priori parecía indispensable. \n",
    "\n",
    "## Desarrollo\n",
    "\n",
    "Diariamente se ejecutará el código de predicción con los nuevos procesos del día, obteniendo la indicación de cita correspondiente. Posteriormente la Dirección Médica podrá modificar la indicación incial por razones gestoras. Finalmente los datos iniciales de carga de procesos del día se cargaran en el modelo (aprendizaje)con las modificaciones que se hayan hecho (Dirección Médica)a efectos de entrenar de nuevo el algoritmo para ganar precisión en métricas de evaluación y por lo tanto en resultados. \n",
    "\n",
    "La precisión global obtenida es del 80,12%.\n",
    "\n",
    "## Necesidades a futuro\n",
    "\n",
    "La gran cantidad de valores de perdidos en algunas variables por subregistro y la falta de validación de algunos campos de datos en el e-sanitario +, hace que el modelo pierda precisión al reducir variables explicativas que podrían aportar más robustez al mismo. Es por ello que se deberían planificar las estrategias oportunas para estas deficiencias, asi como otras que afectan a modelos futuros previstos."
   ]
  },
  {
   "cell_type": "markdown",
   "metadata": {},
   "source": [
    "# CÓDIGO ALGORITMO"
   ]
  },
  {
   "cell_type": "code",
   "execution_count": 51,
   "metadata": {
    "colab": {},
    "colab_type": "code",
    "id": "_IYGtIxM6IVw"
   },
   "outputs": [],
   "source": [
    "# IMPORTACIÓN DE LIBRERÍAS NECESARIAS\n",
    "import pandas as pd\n",
    "import numpy as np\n",
    "import sklearn.metrics as metrics\n",
    "from sklearn.datasets import load_iris\n",
    "from sklearn.linear_model import LogisticRegression\n",
    "from sklearn.model_selection import cross_val_predict\n",
    "from sklearn.model_selection import KFold"
   ]
  },
  {
   "cell_type": "code",
   "execution_count": 53,
   "metadata": {
    "colab": {},
    "colab_type": "code",
    "id": "YTn58J0STTbP",
    "scrolled": true
   },
   "outputs": [
    {
     "data": {
      "text/html": [
       "<div>\n",
       "<style scoped>\n",
       "    .dataframe tbody tr th:only-of-type {\n",
       "        vertical-align: middle;\n",
       "    }\n",
       "\n",
       "    .dataframe tbody tr th {\n",
       "        vertical-align: top;\n",
       "    }\n",
       "\n",
       "    .dataframe thead th {\n",
       "        text-align: right;\n",
       "    }\n",
       "</style>\n",
       "<table border=\"1\" class=\"dataframe\">\n",
       "  <thead>\n",
       "    <tr style=\"text-align: right;\">\n",
       "      <th></th>\n",
       "      <th>EPI</th>\n",
       "      <th>EDAD</th>\n",
       "      <th>CNO</th>\n",
       "      <th>REC</th>\n",
       "      <th>PAGO</th>\n",
       "      <th>CONTRAT</th>\n",
       "      <th>VAL</th>\n",
       "    </tr>\n",
       "  </thead>\n",
       "  <tbody>\n",
       "    <tr>\n",
       "      <th>0</th>\n",
       "      <td>1</td>\n",
       "      <td>49</td>\n",
       "      <td>2</td>\n",
       "      <td>1</td>\n",
       "      <td>1</td>\n",
       "      <td>1</td>\n",
       "      <td>2</td>\n",
       "    </tr>\n",
       "    <tr>\n",
       "      <th>1</th>\n",
       "      <td>4</td>\n",
       "      <td>52</td>\n",
       "      <td>2</td>\n",
       "      <td>1</td>\n",
       "      <td>1</td>\n",
       "      <td>1</td>\n",
       "      <td>1</td>\n",
       "    </tr>\n",
       "    <tr>\n",
       "      <th>2</th>\n",
       "      <td>1</td>\n",
       "      <td>48</td>\n",
       "      <td>2</td>\n",
       "      <td>1</td>\n",
       "      <td>1</td>\n",
       "      <td>1</td>\n",
       "      <td>1</td>\n",
       "    </tr>\n",
       "    <tr>\n",
       "      <th>3</th>\n",
       "      <td>6</td>\n",
       "      <td>41</td>\n",
       "      <td>2</td>\n",
       "      <td>1</td>\n",
       "      <td>1</td>\n",
       "      <td>1</td>\n",
       "      <td>2</td>\n",
       "    </tr>\n",
       "    <tr>\n",
       "      <th>4</th>\n",
       "      <td>6</td>\n",
       "      <td>32</td>\n",
       "      <td>2</td>\n",
       "      <td>1</td>\n",
       "      <td>1</td>\n",
       "      <td>1</td>\n",
       "      <td>2</td>\n",
       "    </tr>\n",
       "  </tbody>\n",
       "</table>\n",
       "</div>"
      ],
      "text/plain": [
       "   EPI  EDAD  CNO  REC  PAGO  CONTRAT  VAL\n",
       "0    1    49    2    1     1        1    2\n",
       "1    4    52    2    1     1        1    1\n",
       "2    1    48    2    1     1        1    1\n",
       "3    6    41    2    1     1        1    2\n",
       "4    6    32    2    1     1        1    2"
      ]
     },
     "execution_count": 53,
     "metadata": {},
     "output_type": "execute_result"
    }
   ],
   "source": [
    "# CARGA DE DATOS\n",
    "base=pd.read_csv('ENEROsindgt.csv', sep=';', encoding='latin-1')\n",
    "base.head()"
   ]
  },
  {
   "cell_type": "code",
   "execution_count": 32,
   "metadata": {
    "colab": {},
    "colab_type": "code",
    "id": "QND5D1ZN6IWC",
    "scrolled": true
   },
   "outputs": [],
   "source": [
    "# SLICING DE DATASET\n",
    "data=base.iloc[:, 0:6]\n",
    "data\n",
    "target=base.iloc[:, [6]]"
   ]
  },
  {
   "cell_type": "code",
   "execution_count": 33,
   "metadata": {},
   "outputs": [
    {
     "name": "stdout",
     "output_type": "stream",
     "text": [
      "Logistic Regression: 0.800716 (0.034613)\n",
      "0.8016152412507765\n",
      "[[ 284  910]\n",
      " [  48 3587]]\n",
      "             precision    recall  f1-score   support\n",
      "\n",
      "          1       0.86      0.24      0.37      1194\n",
      "          2       0.80      0.99      0.88      3635\n",
      "\n",
      "avg / total       0.81      0.80      0.76      4829\n",
      "\n"
     ]
    }
   ],
   "source": [
    "# GENERACIÓN Y ENTRENAMIENTO DEL MODELO ((fit_intercept=True, penalty='l2', tol=1e-5, \n",
    "#C=0.8, solver='lbfgs', max_iter=60,warm_start=True))\n",
    "X = np.array(data)\n",
    "y = np.array(target)\n",
    "X.shape\n",
    "from sklearn import linear_model\n",
    "from sklearn import model_selection\n",
    "from sklearn.metrics import classification_report\n",
    "from sklearn.metrics import confusion_matrix\n",
    "from sklearn.metrics import accuracy_score\n",
    "import matplotlib.pyplot as plt\n",
    "import seaborn as sb\n",
    "import warnings \n",
    "warnings.filterwarnings(\"ignore\")\n",
    "model2 = linear_model.LogisticRegression()\n",
    "model2.fit(X,y)\n",
    "predictions = model2.predict(X)\n",
    "model2.score(X,y)\n",
    "validation_size = 0.20\n",
    "seed = 7\n",
    "X_train, X_validation, Y_train, Y_validation = model_selection.train_test_split(X, y, test_size=validation_size, random_state=seed)\n",
    "name='Logistic Regression'\n",
    "kfold = model_selection.KFold(n_splits=161, random_state=seed)\n",
    "cv_results = model_selection.cross_val_score(model2, X_train, Y_train, cv=kfold, scoring='accuracy')\n",
    "msg = \"%s: %f (%f)\" % (name, cv_results.mean(), cv_results.std())\n",
    "print(msg)\n",
    "predictions = model2.predict(X_validation)\n",
    "print(accuracy_score(Y_validation, predictions))\n",
    "print(confusion_matrix(Y_validation, predictions))\n",
    "print(classification_report(Y_validation, predictions))"
   ]
  },
  {
   "cell_type": "code",
   "execution_count": 57,
   "metadata": {
    "colab": {},
    "colab_type": "code",
    "id": "d7angpnUSxfY",
    "outputId": "4b884bc2-6584-441d-abcb-1e1e74d09fe8",
    "scrolled": true
   },
   "outputs": [
    {
     "data": {
      "text/html": [
       "<div>\n",
       "<style scoped>\n",
       "    .dataframe tbody tr th:only-of-type {\n",
       "        vertical-align: middle;\n",
       "    }\n",
       "\n",
       "    .dataframe tbody tr th {\n",
       "        vertical-align: top;\n",
       "    }\n",
       "\n",
       "    .dataframe thead th {\n",
       "        text-align: right;\n",
       "    }\n",
       "</style>\n",
       "<table border=\"1\" class=\"dataframe\">\n",
       "  <thead>\n",
       "    <tr style=\"text-align: right;\">\n",
       "      <th></th>\n",
       "      <th>EPI</th>\n",
       "      <th>EDAD</th>\n",
       "      <th>CNO</th>\n",
       "      <th>REC</th>\n",
       "      <th>PAGO</th>\n",
       "      <th>CONTRAT</th>\n",
       "      <th>VAL</th>\n",
       "    </tr>\n",
       "  </thead>\n",
       "  <tbody>\n",
       "    <tr>\n",
       "      <th>0</th>\n",
       "      <td>1</td>\n",
       "      <td>49</td>\n",
       "      <td>2</td>\n",
       "      <td>1</td>\n",
       "      <td>1</td>\n",
       "      <td>1</td>\n",
       "      <td>2</td>\n",
       "    </tr>\n",
       "    <tr>\n",
       "      <th>1</th>\n",
       "      <td>1</td>\n",
       "      <td>48</td>\n",
       "      <td>2</td>\n",
       "      <td>1</td>\n",
       "      <td>1</td>\n",
       "      <td>1</td>\n",
       "      <td>1</td>\n",
       "    </tr>\n",
       "    <tr>\n",
       "      <th>2</th>\n",
       "      <td>6</td>\n",
       "      <td>32</td>\n",
       "      <td>2</td>\n",
       "      <td>1</td>\n",
       "      <td>1</td>\n",
       "      <td>1</td>\n",
       "      <td>2</td>\n",
       "    </tr>\n",
       "    <tr>\n",
       "      <th>3</th>\n",
       "      <td>8</td>\n",
       "      <td>60</td>\n",
       "      <td>2</td>\n",
       "      <td>1</td>\n",
       "      <td>1</td>\n",
       "      <td>1</td>\n",
       "      <td>2</td>\n",
       "    </tr>\n",
       "    <tr>\n",
       "      <th>4</th>\n",
       "      <td>2</td>\n",
       "      <td>44</td>\n",
       "      <td>2</td>\n",
       "      <td>1</td>\n",
       "      <td>1</td>\n",
       "      <td>1</td>\n",
       "      <td>2</td>\n",
       "    </tr>\n",
       "  </tbody>\n",
       "</table>\n",
       "</div>"
      ],
      "text/plain": [
       "   EPI  EDAD  CNO  REC  PAGO  CONTRAT  VAL\n",
       "0    1    49    2    1     1        1    2\n",
       "1    1    48    2    1     1        1    1\n",
       "2    6    32    2    1     1        1    2\n",
       "3    8    60    2    1     1        1    2\n",
       "4    2    44    2    1     1        1    2"
      ]
     },
     "execution_count": 57,
     "metadata": {},
     "output_type": "execute_result"
    }
   ],
   "source": [
    "# CARGA NUEVOS DATOS\n",
    "Nuevos_datos=pd.read_csv('pc.csv', sep=';', encoding='latin-1')\n",
    "Nuevos_datos.head()"
   ]
  },
  {
   "cell_type": "code",
   "execution_count": 45,
   "metadata": {
    "colab": {},
    "colab_type": "code",
    "id": "b0UAC5SySxfa",
    "outputId": "45d837bc-eb2c-47e5-da19-4d650b13941e"
   },
   "outputs": [
    {
     "data": {
      "text/plain": [
       "array([2, 2, 2, ..., 2, 2, 1], dtype=int64)"
      ]
     },
     "execution_count": 45,
     "metadata": {},
     "output_type": "execute_result"
    }
   ],
   "source": [
    "# EJECUCIÓN DEL MODELO CON NUEVOS DATOS\n",
    "R=model2.predict(Nuevos_datos)\n",
    "R"
   ]
  },
  {
   "cell_type": "code",
   "execution_count": 46,
   "metadata": {
    "scrolled": false
   },
   "outputs": [
    {
     "name": "stdout",
     "output_type": "stream",
     "text": [
      "2    12439\n",
      "1      974\n",
      "Name: 0, dtype: int64\n"
     ]
    }
   ],
   "source": [
    "RESULTADO = pd.DataFrame(R) \n",
    "print(pd.value_counts(RESULTADO[0], sort = True))"
   ]
  },
  {
   "cell_type": "code",
   "execution_count": 22,
   "metadata": {},
   "outputs": [],
   "source": [
    "# CARGA DE RESULTADOS EN DIRECTORIO\n",
    "RESULTADO.to_csv(\"RESULTADO.csv\")"
   ]
  },
  {
   "cell_type": "markdown",
   "metadata": {},
   "source": [
    "#  Anexo I"
   ]
  },
  {
   "cell_type": "markdown",
   "metadata": {},
   "source": [
    "CNO\n",
    "\tFrecuencia\tPorcentaje\tPorcentaje válido\tPorcentaje acumulado\n",
    "Válido\t1\t343\t1,4\t1,4\t1,4\n",
    "\t2\t2394\t9,9\t9,9\t11,3\n",
    "\t3\t2680\t11,1\t11,1\t22,4\n",
    "\t4\t3249\t13,5\t13,5\t35,9\n",
    "\t5\t5054\t20,9\t20,9\t56,8\n",
    "\t6\t176\t,7\t,7\t57,6\n",
    "\t7\t3452\t14,3\t14,3\t71,9\n",
    "\t8\t2335\t9,7\t9,7\t81,5\n",
    "\t9\t4460\t18,5\t18,5\t100,0\n",
    "\tTotal\t24143\t100,0\t100,0\t\n"
   ]
  },
  {
   "cell_type": "code",
   "execution_count": null,
   "metadata": {},
   "outputs": [],
   "source": []
  }
 ],
 "metadata": {
  "colab": {
   "collapsed_sections": [],
   "name": "CLAS.ipynb",
   "provenance": []
  },
  "kernelspec": {
   "display_name": "Python 3",
   "language": "python",
   "name": "python3"
  },
  "language_info": {
   "codemirror_mode": {
    "name": "ipython",
    "version": 3
   },
   "file_extension": ".py",
   "mimetype": "text/x-python",
   "name": "python",
   "nbconvert_exporter": "python",
   "pygments_lexer": "ipython3",
   "version": "3.7.0"
  }
 },
 "nbformat": 4,
 "nbformat_minor": 1
}
